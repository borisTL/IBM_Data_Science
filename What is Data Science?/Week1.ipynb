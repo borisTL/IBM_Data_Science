{
 "cells": [
  {
   "cell_type": "markdown",
   "id": "ac689b7c",
   "metadata": {},
   "source": [
    "## In the first week of training, students learn:\n",
    "- That data science involves analyzing vast amounts of data, which can reveal insights that assist organizations in making strategic decisions.\n",
    "- About the numerous pathways to a career in data science, most of which encompass a mix of mathematics, science, and a natural curiosity about data.\n",
    "- Key qualities for a budding data scientist: to be curious, critical-minded, and argumentative.\n",
    "- Why data science is regarded as the \"sexiest job of the 21st century\" and about the high salaries for skilled professionals. "
   ]
  },
  {
   "cell_type": "markdown",
   "id": "0c34c43c",
   "metadata": {},
   "source": [
    "! [The Report Structure](The Report Structure.jpg)"
   ]
  },
  {
   "cell_type": "code",
   "execution_count": null,
   "id": "e6d3530a",
   "metadata": {},
   "outputs": [],
   "source": []
  }
 ],
 "metadata": {
  "kernelspec": {
   "display_name": "Python 3 (ipykernel)",
   "language": "python",
   "name": "python3"
  },
  "language_info": {
   "codemirror_mode": {
    "name": "ipython",
    "version": 3
   },
   "file_extension": ".py",
   "mimetype": "text/x-python",
   "name": "python",
   "nbconvert_exporter": "python",
   "pygments_lexer": "ipython3",
   "version": "3.11.4"
  }
 },
 "nbformat": 4,
 "nbformat_minor": 5
}
