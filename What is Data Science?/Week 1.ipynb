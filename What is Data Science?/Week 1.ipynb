{
 "cells": [
  {
   "cell_type": "markdown",
   "id": "0ef52f64",
   "metadata": {},
   "source": [
    "# Learning Objectives\n",
    "\n",
    "- **Define data science and its importance**: Understand the role and significance of data science in today's data-driven world.\n",
    "  \n",
    "- **List paths to a Data Science career**: Recognize various avenues and educational paths that can lead to a career in data science.\n",
    "\n",
    "- **Advice from Professionals**: Summarize the wisdom and tips given by seasoned data science professionals to newcomers in the field.\n",
    "\n",
    "- **The Demand for Data Science**: Articulate reasons why data science is considered the topmost sought-after job in the 21st century.\n",
    "\n",
    "- **A Day in the Life**: Describe the daily routine, challenges, and tasks that a data scientist typically encounters.\n",
    "\n",
    "- **Data Science Terminology**: Define and understand commonly used terms and jargons in the field of data science.\n",
    "\n",
    "- **Cloud Technologies and Data Science**: Summarize how cloud computing technologies have influenced and shaped the practice of data science.\n",
    "\n",
    "- **Qualities of a Successful Data Scientist**: Identify the skills, attitudes, and attributes that contribute to success in the world of data science.\n"
   ]
  }
 ],
 "metadata": {
  "kernelspec": {
   "display_name": "Python 3 (ipykernel)",
   "language": "python",
   "name": "python3"
  },
  "language_info": {
   "codemirror_mode": {
    "name": "ipython",
    "version": 3
   },
   "file_extension": ".py",
   "mimetype": "text/x-python",
   "name": "python",
   "nbconvert_exporter": "python",
   "pygments_lexer": "ipython3",
   "version": "3.11.4"
  }
 },
 "nbformat": 4,
 "nbformat_minor": 5
}
