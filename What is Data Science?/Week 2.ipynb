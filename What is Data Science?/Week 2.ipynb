{
 "cells": [
  {
   "cell_type": "markdown",
   "id": "99cdf156",
   "metadata": {},
   "source": [
    "# Data Science Overview\n",
    "\n",
    "## Big Data: Defined by the Vs\n",
    "- **Velocity**: The speed at which new data is generated and collected.\n",
    "- **Volume**: The amount or size of the data being produced.\n",
    "- **Variety**: Different types of data (structured, semi-structured, unstructured).\n",
    "- **Veracity**: The quality and reliability of the data.\n",
    "- **Value**: The usefulness of the data in creating actionable insights.\n",
    "\n",
    "## Handling Big Data: Tools and Techniques\n",
    "- **Hadoop**: A popular open-source framework designed for distributed storage and processing of large data sets.\n",
    "- **Distributed Computing**: Using multiple machines or servers in tandem to process data and distribute large-scale computation.\n",
    "- **Other Tools**: There are several other tools and platforms that cater to different facets of big data processing.\n",
    "\n",
    "## Skills for Big Data Analysis\n",
    "- Data Cleaning and Preprocessing\n",
    "- Statistical Analysis\n",
    "- Data Visualization\n",
    "- Advanced Computing\n",
    "\n",
    "## Data Mining\n",
    "Data mining is the practice of extracting patterns, trends, and actionable information from large datasets. It involves various techniques and methods to turn raw data into valuable insights.\n",
    "\n",
    "## Deep Learning vs. Machine Learning\n",
    "- **Deep Learning**: A subset of Machine Learning that tries to emulate the functions of the human brain using neural networks, particularly deep neural networks.\n",
    "    - *Highlight*: It simulates human decision-making processes.\n",
    "- **Machine Learning**: A broader discipline of AI enabling computers to learn from and make decisions based on data.\n",
    "    - *Applications*: \n",
    "        - Recommender systems for e-commerce websites.\n",
    "        - In-depth financial market analysis.\n",
    "\n"
   ]
  },
  {
   "cell_type": "code",
   "execution_count": null,
   "id": "d3f2f4c2",
   "metadata": {},
   "outputs": [],
   "source": []
  }
 ],
 "metadata": {
  "kernelspec": {
   "display_name": "Python 3 (ipykernel)",
   "language": "python",
   "name": "python3"
  },
  "language_info": {
   "codemirror_mode": {
    "name": "ipython",
    "version": 3
   },
   "file_extension": ".py",
   "mimetype": "text/x-python",
   "name": "python",
   "nbconvert_exporter": "python",
   "pygments_lexer": "ipython3",
   "version": "3.11.4"
  }
 },
 "nbformat": 4,
 "nbformat_minor": 5
}
