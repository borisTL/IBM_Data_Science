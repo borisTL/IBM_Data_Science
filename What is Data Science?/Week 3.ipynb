{
 "cells": [
  {
   "cell_type": "markdown",
   "id": "9bb89312",
   "metadata": {},
   "source": [
    "# Data Science Overview\n",
    "\n",
    "## Applications of Data Science \n",
    "- **Healthcare**: Assists physicians in providing optimal treatment for patients.\n",
    "- **Meteorology**: Enables meteorologists to predict local weather events and even natural disasters such as earthquakes and tornadoes.\n",
    "\n",
    "## Starting the Data Science Journey\n",
    "- **Data Capture**: The first step for companies to embark on their data science journey.\n",
    "- **Data Analysis**: Once data is captured, the analysis can begin.\n",
    "\n",
    "## Consumer-Generated Data\n",
    "- Description of the ways consumers generate data.\n",
    "\n",
    "## Big Business and Data\n",
    "- **Netflix, Amazon, UPS, Google, and Apple**: How these giants utilize data from both consumers and employees.\n",
    "\n",
    "## Final Deliverable in Data Science Projects\n",
    "- **Purpose**: To relay newfound insights from data analysis to primary decision-makers.\n",
    "- **Structure**: \n",
    "    - Cover Page\n",
    "    - Table of Contents\n",
    "    - Executive Summary\n",
    "    - Detailed Contents\n",
    "    - Acknowledgements\n",
    "    - References\n",
    "    - Appendices\n",
    "- **Content**: The length and details in the final report will be contingent on the project's requirements.\n",
    "- **Analysis and Findings**: The report must provide a comprehensive analysis of the data and elucidate the project outcomes.\n",
    "\n",
    "## Skills Required for Data Scientists\n",
    "- **Technical Skills**: \n",
    "    - Programming\n",
    "    - Mathematics\n",
    "    - Database Management\n",
    "- **Learning Approach**: Many technical skills can be acquired via self-learning.\n",
    "- **Soft Skills**: Companies must seek soft skills such as storytelling and relationship-building in addition to technical competencies when hiring.\n",
    "\n",
    "## Advice for High School Students \n",
    "Students contemplating a career in Data Science should:\n",
    "- Learn programming, math, and databases.\n",
    "- Practice consistently.\n",
    "- Recognize that the length and content of final reports will vary according to the project's needs.\n"
   ]
  },
  {
   "cell_type": "code",
   "execution_count": null,
   "id": "9effcff6",
   "metadata": {},
   "outputs": [],
   "source": []
  }
 ],
 "metadata": {
  "kernelspec": {
   "display_name": "Python 3 (ipykernel)",
   "language": "python",
   "name": "python3"
  },
  "language_info": {
   "codemirror_mode": {
    "name": "ipython",
    "version": 3
   },
   "file_extension": ".py",
   "mimetype": "text/x-python",
   "name": "python",
   "nbconvert_exporter": "python",
   "pygments_lexer": "ipython3",
   "version": "3.11.4"
  }
 },
 "nbformat": 4,
 "nbformat_minor": 5
}
