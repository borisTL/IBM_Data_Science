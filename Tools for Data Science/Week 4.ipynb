{
 "cells": [
  {
   "cell_type": "markdown",
   "id": "7019402f",
   "metadata": {},
   "source": [
    "# Jupyter Notebooks & Environments in Data Science\n",
    "\n",
    "## Jupyter Notebooks Overview\n",
    "- **Jupyter Notebooks**: Utilized in Data Science for logging experiments and projects.\n",
    "  - Different methods exist for their installation and usage.\n",
    "  - Actions in Notebooks:\n",
    "    - Running, deleting, and inserting code cells.\n",
    "    - Operating multiple notebooks concurrently.\n",
    "    - Presenting a notebook through Markdown and code cells combination.\n",
    "    - Shutting down notebook sessions post-work.\n",
    "\n",
    "## Jupyter Architecture\n",
    "- Implements a **two-process model**: Comprises a kernel and a client.\n",
    "  - **Kernel**: Executes notebook's code cells.\n",
    "  - **Notebook server**: Handles notebook's saving and loading.\n",
    "  - **NB convert tool**: Converts files to different formats.\n",
    "\n",
    "## Anaconda Navigator & Environments\n",
    "- **Anaconda Navigator GUI**:\n",
    "  - Can initiate various applications on a local device.\n",
    "  - Jupyter environments found in Anaconda Navigator encompass **JupyterLab** and **VS Code**.\n",
    "    - Although Jupyter environments can be downloaded separately, they might lack proper configuration.\n",
    "- **Additional open-source Jupyter environments**:\n",
    "  - JupyterLab\n",
    "  - JupyterLite: A browser-centric tool.\n",
    "  - VS Code\n",
    "  - Google Colaboratory\n"
   ]
  }
 ],
 "metadata": {
  "kernelspec": {
   "display_name": "Python 3 (ipykernel)",
   "language": "python",
   "name": "python3"
  },
  "language_info": {
   "codemirror_mode": {
    "name": "ipython",
    "version": 3
   },
   "file_extension": ".py",
   "mimetype": "text/x-python",
   "name": "python",
   "nbconvert_exporter": "python",
   "pygments_lexer": "ipython3",
   "version": "3.11.4"
  }
 },
 "nbformat": 4,
 "nbformat_minor": 5
}
