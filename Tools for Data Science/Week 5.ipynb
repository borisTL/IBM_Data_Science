{
 "cells": [
  {
   "cell_type": "markdown",
   "id": "1a21b0f2",
   "metadata": {},
   "source": [
    "# R in Data Science\n",
    "\n",
    "## Capabilities and Uses of R\n",
    "- R's capabilities span a wide range of statistical and graphical techniques.\n",
    "- It's an essential tool in Data Science for statistical analysis and visualization.\n",
    "\n",
    "## RStudio\n",
    "- An integrated development environment specifically designed for R.\n",
    "- Provides tools to run R codes and visualize results seamlessly.\n",
    "\n",
    "## R Packages for Data Science\n",
    "- Numerous packages available tailored for varied data science needs.\n",
    "  \n",
    "### Data Visualization in R\n",
    "- Built-in **R plot function**: Basic plotting capabilities.\n",
    "- **ggplot**: Advanced plotting, part of the 'tidyverse'.\n",
    "  - **ggtitle**: To add titles to your plots.\n",
    "  - **labs function**: For renaming axis and adding annotations.\n",
    "\n",
    "# Version Control in Software Development\n",
    "\n",
    "## Distributed Version Control System (DVCS)\n",
    "- Tracks changes in code regardless of its storage location.\n",
    "- Facilitates simultaneous work on the same codebase, allowing mirroring of the codebase on individual computers.\n",
    "- Manages the synchronization of various codebase versions.\n",
    "\n",
    "## Repositories\n",
    "- Storage entities that:\n",
    "  - Store the code.\n",
    "  - Monitor issues and changes.\n",
    "  - Aid collaboration.\n",
    "\n",
    "## Popular DVCS\n",
    "- **Git**: One of the most widely-used distributed version control systems.\n",
    "\n",
    "### Hosted Version Control Platforms\n",
    "- **GitHub**, **GitLab**, and **Bitbucket**: Examples of platforms hosting version control repositories.\n",
    "\n",
    "## Branches in Version Control\n",
    "- Utilized to segregate changes in code.\n",
    "- Once changes are finalized, they can be integrated back into the main (often called 'master' or 'main') branch.\n",
    "\n",
    "## Cloning Repositories\n",
    "- Repositories can be cloned, enabling local work.\n",
    "- Changes can then be synchronized back to the primary repository.\n"
   ]
  },
  {
   "cell_type": "code",
   "execution_count": null,
   "id": "5ffea87a",
   "metadata": {},
   "outputs": [],
   "source": []
  }
 ],
 "metadata": {
  "kernelspec": {
   "display_name": "Python 3 (ipykernel)",
   "language": "python",
   "name": "python3"
  },
  "language_info": {
   "codemirror_mode": {
    "name": "ipython",
    "version": 3
   },
   "file_extension": ".py",
   "mimetype": "text/x-python",
   "name": "python",
   "nbconvert_exporter": "python",
   "pygments_lexer": "ipython3",
   "version": "3.11.4"
  }
 },
 "nbformat": 4,
 "nbformat_minor": 5
}
