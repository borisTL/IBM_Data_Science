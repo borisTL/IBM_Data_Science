{
 "cells": [
  {
   "cell_type": "markdown",
   "id": "8eb8b83e",
   "metadata": {},
   "source": [
    "# Summary\n",
    "\n",
    "**Congratulations!** You have completed this module. Here's a summary of what you've learned:\n",
    "\n",
    "- **Watson Studio**: A pivotal tool for:\n",
    "  - Analyzing and viewing data.\n",
    "  - Cleaning and shaping data.\n",
    "  - Embedding data into streams.\n",
    "  - Creating, training, and deploying models.\n",
    "\n",
    "- **Key Insights**:\n",
    "  - Promotes career growth.\n",
    "  - Learning Watson Studio is straightforward and doesn't require specialized skills.\n",
    "  - Numerous resources are available within the platform.\n",
    "\n",
    "- **Initial Steps**:\n",
    "  - An IBM Cloud account is essential to use Watson Studio.\n",
    "  - To access Watson Studio, click on 'Catalog' on the IBM Cloud dashboard, then choose 'AI/Machine Learning'.\n",
    "\n",
    "- **Working with Data**:\n",
    "  - You can initiate either an empty project or one from a sample or file by opting for the 'Work with data' choice.\n",
    "\n",
    "- **Storage and Assets**:\n",
    "  - Storage services can be added by clicking 'Add' and selecting your desired storage service.\n",
    "  - New notebooks can be created or added by selecting 'New asset' on the project homepage under the 'Assets' tab.\n",
    "\n",
    "- **Collaboration and Security**:\n",
    "  - Notebooks can be shared securely, omitting sensitive cells.\n",
    "  \n",
    "- **Job Management**:\n",
    "  - Jobs are initiated and scheduled via the 'Create a job' icon in the notebook action bar.\n",
    "  - You can manage jobs on the project homepage under the 'Jobs' tab.\n",
    "\n",
    "- **Environments and Templates**:\n",
    "  - Find Jupyter Notebook runtime environments and templates on the 'Environments' tab of the Home Page.\n",
    "  - It's possible to create and modify new Jupyter Notebook templates.\n",
    "\n",
    "- **Integration and Version Control**:\n",
    "  - Watson Studio accounts can seamlessly integrate with GitHub.\n",
    "  - Pushing notebooks from Watson Studio to GitHub is achievable.\n"
   ]
  },
  {
   "cell_type": "code",
   "execution_count": null,
   "id": "20e86272",
   "metadata": {},
   "outputs": [],
   "source": []
  }
 ],
 "metadata": {
  "kernelspec": {
   "display_name": "Python 3 (ipykernel)",
   "language": "python",
   "name": "python3"
  },
  "language_info": {
   "codemirror_mode": {
    "name": "ipython",
    "version": 3
   },
   "file_extension": ".py",
   "mimetype": "text/x-python",
   "name": "python",
   "nbconvert_exporter": "python",
   "pygments_lexer": "ipython3",
   "version": "3.11.4"
  }
 },
 "nbformat": 4,
 "nbformat_minor": 5
}
