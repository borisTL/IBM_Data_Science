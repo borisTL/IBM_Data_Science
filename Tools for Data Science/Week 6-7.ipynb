{
 "cells": [
  {
   "cell_type": "markdown",
   "id": "590b4cd6",
   "metadata": {},
   "source": [
    "# Watson Studio Overview\n",
    "\n",
    "## Key Features of Watson Studio\n",
    "- **Data Analysis**: Facilitates the viewing and analyzing of data.\n",
    "- **Data Cleaning**: Allows for effective data cleaning and shaping.\n",
    "- **Data Embedding**: Makes embedding data into streams possible.\n",
    "- **Modeling**: Supports the creation, training, and deployment of models.\n",
    "\n",
    "## Benefits of Learning Watson Studio\n",
    "- **Career Advancement**: Learning Watson Studio can enhance career opportunities.\n",
    "- **Ease of Learning**: Watson Studio is user-friendly and doesn't demand specific pre-existing skills.\n",
    "- **Rich Resources**: Numerous resources are available to aid learning and implementation.\n",
    "\n",
    "## Getting Started with Watson Studio\n",
    "1. **IBM Cloud Account**: Essential for accessing Watson Studio.\n",
    "2. **Opening Watson Studio**: Accessible via Catalog > AI/Machine Learning on the IBM Cloud dashboard.\n",
    "3. **Project Creation**: Create projects from scratch, samples, or files. Use the 'Work with data' option for data-centric projects.\n",
    "4. **Storage**: Add your preferred storage service.\n",
    "5. **Notebooks**: Easily add or initiate a new notebook.\n",
    "    - **Sharing**: Share notebooks while protecting sensitive data.\n",
    "    - **Job Management**: Create, view, edit, or delete jobs. Use the Create a job icon for new jobs.\n",
    "    - **Jupyter Notebook Environments**: Discover runtime environments and templates on the Environments tab.\n",
    "    - **Template Management**: Create and modify Jupyter Notebook templates.\n",
    "\n",
    "## Integration with GitHub\n",
    "- Watson Studio allows seamless integration with GitHub.\n",
    "- Directly push notebooks from Watson Studio to your GitHub repositories.\n"
   ]
  }
 ],
 "metadata": {
  "kernelspec": {
   "display_name": "Python 3 (ipykernel)",
   "language": "python",
   "name": "python3"
  },
  "language_info": {
   "codemirror_mode": {
    "name": "ipython",
    "version": 3
   },
   "file_extension": ".py",
   "mimetype": "text/x-python",
   "name": "python",
   "nbconvert_exporter": "python",
   "pygments_lexer": "ipython3",
   "version": "3.11.4"
  }
 },
 "nbformat": 4,
 "nbformat_minor": 5
}
