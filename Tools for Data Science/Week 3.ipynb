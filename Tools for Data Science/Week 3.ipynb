{
 "cells": [
  {
   "cell_type": "markdown",
   "id": "81e524e5",
   "metadata": {},
   "source": [
    "# Overview of Libraries, Data, and Machine Learning\n",
    "\n",
    "## Libraries & Modules\n",
    "- Libraries often have **built-in modules** that offer diverse functionalities.\n",
    "- An **API** (Application Programming Interface) facilitates communication between software pieces.\n",
    "  - It's the visible part of a library, while the library houses all program components.\n",
    "- **REST APIs** enable online communication and tap into resources like storage, AI algorithms, etc.\n",
    "\n",
    "## Data Visualization & Open Data\n",
    "- **Data visualization** aids in conveying results meaningfully.\n",
    "- **Open data** plays a pivotal role in Data Science.\n",
    "  - The **Community Data License Agreement** simplifies open data sharing.\n",
    "  - **IBM Data Asset eXchange (DAX)** offers quality open data sets.\n",
    "    - DAX data sets come with tutorial notebooks for developers.\n",
    "    - DAX notebooks are compatible with Watson Studio.\n",
    "\n",
    "## Machine Learning & Deep Learning\n",
    "- **Machine Learning (ML)** employs algorithms to discern data patterns.\n",
    "  - ML Types: Supervised, Unsupervised, and Reinforcement.\n",
    "    - **Supervised Learning** models: Regression and Classification.\n",
    "  - **Deep Learning**: Techniques mirroring human brain functions to solve diverse problems.\n",
    "    - **Model Asset eXchange**: A repository for deep-learning microservices.\n",
    "      - MAX model-serving microservices are available as open-source Docker images on GitHub.\n",
    "      - Utilize **Red Hat OpenShift** for automating microservice deployment and management.\n",
    "      - [Ml-exchange.org](http://ml-exchange.org) offers numerous predefined models.\n",
    "\n",
    "## Tools & Frameworks\n",
    "- For ML: **Scikit-learn** for statistical modeling, including regression, classification, etc.\n",
    "- For Deep Learning production: **TensorFlow** as a foundational framework.\n",
    "- **Apache Spark**: A cluster-computing framework for data processing on computing clusters.\n"
   ]
  }
 ],
 "metadata": {
  "kernelspec": {
   "display_name": "Python 3 (ipykernel)",
   "language": "python",
   "name": "python3"
  },
  "language_info": {
   "codemirror_mode": {
    "name": "ipython",
    "version": 3
   },
   "file_extension": ".py",
   "mimetype": "text/x-python",
   "name": "python",
   "nbconvert_exporter": "python",
   "pygments_lexer": "ipython3",
   "version": "3.11.4"
  }
 },
 "nbformat": 4,
 "nbformat_minor": 5
}
